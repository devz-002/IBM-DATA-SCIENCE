{
 "cells": [
  {
   "cell_type": "markdown",
   "id": "6e3cc598",
   "metadata": {},
   "source": [
    "# My Jupyter Notebook on IBM Watson Studio"
   ]
  },
  {
   "cell_type": "markdown",
   "id": "da9111f9",
   "metadata": {},
   "source": [
    "<b>DEVIKA HAREESH</b><br>\n",
    "Student at Amrita Vishwa Vidyapeetham, aspiring to be a software engineer."
   ]
  },
  {
   "cell_type": "markdown",
   "id": "0922121a",
   "metadata": {},
   "source": [
    "<i>I am interested in Data Science as I enjoy problem solving.</i>"
   ]
  },
  {
   "cell_type": "markdown",
   "id": "67ce1f3e",
   "metadata": {},
   "source": [
    "### The below code inputs a number and prints the successors of numbers from 0 to that number."
   ]
  },
  {
   "cell_type": "code",
   "execution_count": 2,
   "id": "e89d7681",
   "metadata": {
    "scrolled": true
   },
   "outputs": [
    {
     "name": "stdout",
     "output_type": "stream",
     "text": [
      "1\n",
      "2\n",
      "3\n"
     ]
    }
   ],
   "source": [
    "a = 3\n",
    "for i in range(3):\n",
    "    print(i+1)"
   ]
  },
  {
   "cell_type": "markdown",
   "id": "f400d969",
   "metadata": {},
   "source": [
    "<HR>\n",
    "    \n",
    "[LINK TO GOOGLE](https://www.google.com)\n",
    "    \n",
    "<HR>\n",
    "    <OL>\n",
    "        <LI>DATA SCIENCE</LI>\n",
    "        <LI>MACHINE LEARNING</LI>\n",
    "        <LI>ARTIFICIAL INTELLIGENCE</LI>\n",
    "    </OL>\n",
    "<HR>\n",
    "    \n",
    "> Time waits for no one"
   ]
  },
  {
   "cell_type": "code",
   "execution_count": null,
   "id": "abb6f134",
   "metadata": {},
   "outputs": [],
   "source": []
  },
  {
   "cell_type": "code",
   "execution_count": null,
   "id": "f23511b9",
   "metadata": {},
   "outputs": [],
   "source": []
  }
 ],
 "metadata": {
  "kernelspec": {
   "display_name": "Python 3",
   "language": "python",
   "name": "python3"
  },
  "language_info": {
   "codemirror_mode": {
    "name": "ipython",
    "version": 3
   },
   "file_extension": ".py",
   "mimetype": "text/x-python",
   "name": "python",
   "nbconvert_exporter": "python",
   "pygments_lexer": "ipython3",
   "version": "3.8.8"
  }
 },
 "nbformat": 4,
 "nbformat_minor": 5
}
